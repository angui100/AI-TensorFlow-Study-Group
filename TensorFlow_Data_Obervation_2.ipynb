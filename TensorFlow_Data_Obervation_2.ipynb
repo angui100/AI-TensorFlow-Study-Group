{
  "nbformat": 4,
  "nbformat_minor": 0,
  "metadata": {
    "colab": {
      "name": "TensorFlow_Data_Obervation_2.ipynb",
      "provenance": [],
      "authorship_tag": "ABX9TyPsc2rmRMXUDSVoMSieJ8m+",
      "include_colab_link": true
    },
    "kernelspec": {
      "name": "python3",
      "display_name": "Python 3"
    },
    "accelerator": "GPU"
  },
  "cells": [
    {
      "cell_type": "markdown",
      "metadata": {
        "id": "view-in-github",
        "colab_type": "text"
      },
      "source": [
        "<a href=\"https://colab.research.google.com/github/angui100/AI-TensorFlow-Study-Group/blob/master/TensorFlow_Data_Obervation_2.ipynb\" target=\"_parent\"><img src=\"https://colab.research.google.com/assets/colab-badge.svg\" alt=\"Open In Colab\"/></a>"
      ]
    },
    {
      "cell_type": "code",
      "metadata": {
        "id": "NPtMiTTbDlv6",
        "colab_type": "code",
        "colab": {
          "base_uri": "https://localhost:8080/",
          "height": 50
        },
        "outputId": "1207e897-3985-4f97-aa84-d563249a300d"
      },
      "source": [
        "try:\n",
        "  %tensorflow_version 2.x\n",
        "except Exception:\n",
        "  pass\n",
        "\n",
        "import tensorflow as tf\n",
        "\n",
        "tf.__version__"
      ],
      "execution_count": 1,
      "outputs": [
        {
          "output_type": "stream",
          "text": [
            "TensorFlow 2.x selected.\n"
          ],
          "name": "stdout"
        },
        {
          "output_type": "execute_result",
          "data": {
            "text/plain": [
              "'2.1.0'"
            ]
          },
          "metadata": {
            "tags": []
          },
          "execution_count": 1
        }
      ]
    },
    {
      "cell_type": "code",
      "metadata": {
        "id": "cmk1sgn7D2-G",
        "colab_type": "code",
        "colab": {}
      },
      "source": [
        "import numpy as np"
      ],
      "execution_count": 0,
      "outputs": []
    },
    {
      "cell_type": "code",
      "metadata": {
        "id": "txmPcNz3D-Fx",
        "colab_type": "code",
        "colab": {}
      },
      "source": [
        "x = np.random.sample((100, 2))\n",
        "x"
      ],
      "execution_count": 0,
      "outputs": []
    },
    {
      "cell_type": "code",
      "metadata": {
        "id": "OPWiqf56EIJq",
        "colab_type": "code",
        "colab": {}
      },
      "source": [
        "my_dataset = tf.data.Dataset.from_tensor_slices( x )"
      ],
      "execution_count": 0,
      "outputs": []
    },
    {
      "cell_type": "code",
      "metadata": {
        "id": "Md9-eUXsEXmq",
        "colab_type": "code",
        "colab": {
          "base_uri": "https://localhost:8080/",
          "height": 34
        },
        "outputId": "82505cbd-92fd-4b27-c50e-6a73dafc7cfb"
      },
      "source": [
        "my_dataset"
      ],
      "execution_count": 5,
      "outputs": [
        {
          "output_type": "execute_result",
          "data": {
            "text/plain": [
              "<TensorSliceDataset shapes: (2,), types: tf.float64>"
            ]
          },
          "metadata": {
            "tags": []
          },
          "execution_count": 5
        }
      ]
    },
    {
      "cell_type": "code",
      "metadata": {
        "id": "mnGxI7PAEZQB",
        "colab_type": "code",
        "colab": {}
      },
      "source": [
        "data_iterator = my_dataset.as_numpy_iterator()"
      ],
      "execution_count": 0,
      "outputs": []
    },
    {
      "cell_type": "code",
      "metadata": {
        "id": "BTg2L0HdFQNF",
        "colab_type": "code",
        "colab": {}
      },
      "source": [
        "for data_el in data_iterator:\n",
        "  print( data_el )"
      ],
      "execution_count": 0,
      "outputs": []
    },
    {
      "cell_type": "code",
      "metadata": {
        "id": "UqWxKDMzEtVf",
        "colab_type": "code",
        "colab": {
          "base_uri": "https://localhost:8080/",
          "height": 67
        },
        "outputId": "e0b2c980-b270-4586-f34d-74e9606e7e39"
      },
      "source": [
        "element_data = data_iterator.next()\n",
        "print( element_data )\n",
        "for el in element_data:\n",
        "  print(el)"
      ],
      "execution_count": 10,
      "outputs": [
        {
          "output_type": "stream",
          "text": [
            "[0.72471721 0.57193756]\n",
            "0.7247172061324014\n",
            "0.5719375636737415\n"
          ],
          "name": "stdout"
        }
      ]
    },
    {
      "cell_type": "code",
      "metadata": {
        "id": "zk55xHTQGWvT",
        "colab_type": "code",
        "colab": {}
      },
      "source": [
        "#using two numpy arrays\n",
        "feature, labels = (np.random.sample((100, 2)), np.random.sample((100, 1)))\n",
        "\n",
        "my_dataset_2 = tf.data.Dataset.from_tensor_slices((feature, labels))\n",
        "\n",
        "data_iterator_2 = my_dataset_2.as_numpy_iterator()"
      ],
      "execution_count": 0,
      "outputs": []
    },
    {
      "cell_type": "code",
      "metadata": {
        "id": "0YPEKH79HWJj",
        "colab_type": "code",
        "colab": {}
      },
      "source": [
        "for element in data_iterator_2:\n",
        "  print( element )"
      ],
      "execution_count": 0,
      "outputs": []
    },
    {
      "cell_type": "code",
      "metadata": {
        "id": "n6TZqzB4HpNY",
        "colab_type": "code",
        "colab": {}
      },
      "source": [
        "# using a tensor\n",
        "my_dataset_3 = tf.data.Dataset.from_tensor_slices( tf.random.uniform([100, 2]))\n",
        "for el in my_dataset_3.enumerate():\n",
        "  print( el )"
      ],
      "execution_count": 0,
      "outputs": []
    },
    {
      "cell_type": "code",
      "metadata": {
        "id": "Vf568iv9Ik1R",
        "colab_type": "code",
        "colab": {}
      },
      "source": [
        "numpy_iterator = my_dataset_3.as_numpy_iterator()\n",
        "\n",
        "for el in numpy_iterator:\n",
        "  print( el )\n"
      ],
      "execution_count": 0,
      "outputs": []
    },
    {
      "cell_type": "code",
      "metadata": {
        "id": "VRuE8X6iKZF4",
        "colab_type": "code",
        "colab": {},
        "cellView": "form"
      },
      "source": [
        "#@title\n",
        "# using a placeholder\n",
        "x = tf.compat.v1.placeholder( tf.float32, shape=[None, 2])\n",
        "\n",
        "my_dataset_place_holder = tf.data.Dataset.from_tensor_slices( x )\n",
        "\n",
        "data = np.random.sample((100, 2))\n",
        "\n",
        "data_iterator = my_dataset_place_holder.as_numpy_iterator()\n",
        "\n",
        "el = data_iterator.next()\n",
        "\n",
        "#x = tf.compat.v1.placeholder(tf.float32, shape=(1024, 1024))\n",
        "#y = tf.matmul(x, x)\n",
        "\n",
        "with tf.compat.v1.Session() as sess:  \n",
        "  #print(sess.run(y))  # ERROR: will fail because x was not fed.\n",
        "\n",
        "  #rand_array = np.random.rand(1024, 1024)\n",
        "  print(sess.run(y, feed_dict={x: data}))  # Will succeed."
      ],
      "execution_count": 0,
      "outputs": []
    },
    {
      "cell_type": "code",
      "metadata": {
        "id": "_k8Pg0vVNWMe",
        "colab_type": "code",
        "colab": {},
        "cellView": "form"
      },
      "source": [
        "#@title\n",
        "#tf.compat.v1.disable_eager_execution()\n",
        "x = tf.compat.v1.placeholder(tf.float32, shape=(1024, 1024))\n",
        "y = tf.matmul(x, x)\n",
        "\n",
        "with tf.compat.v1.Session() as sess:\n",
        "  #print(sess.run(y))  # ERROR: will fail because x was not fed.\n",
        "\n",
        "  rand_array = np.random.rand(1024, 1024)\n",
        "  print(sess.run(y, feed_dict={x: rand_array}))  # Will succeed."
      ],
      "execution_count": 0,
      "outputs": []
    },
    {
      "cell_type": "code",
      "metadata": {
        "id": "MpRdo-5pNjSE",
        "colab_type": "code",
        "colab": {}
      },
      "source": [
        ""
      ],
      "execution_count": 0,
      "outputs": []
    }
  ]
}